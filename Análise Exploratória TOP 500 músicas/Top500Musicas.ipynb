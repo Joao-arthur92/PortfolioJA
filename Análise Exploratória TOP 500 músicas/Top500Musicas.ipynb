{
 "cells": [
  {
   "cell_type": "markdown",
   "metadata": {},
   "source": [
    "<h1>Top 500 Músicas de todos os tempos</h1>\n",
    "<br>\n",
    "Dataset disponível no <a href='https://www.kaggle.com/omarhanyy/500-greatest-songs-of-all-time?select=Top+500+Songs.csv'>Kaggle</a>\n",
    "<br>\n",
    "Este dataset possui informações das 500 melhores escolhas feitas pela revista Rolling Stones como as melhores músicas de todos os tempos. Rolling Stone é uma revista mensal americana que se concentra na cultura popular.\n",
    "<br>\n",
    "<br>\n",
    "As perguntas que queremos responder é: Quais artistas possuem o maior número de músicas nas 500 melhores músicas? Qual artista ficou mais tempo em primeiro lugar das músicas mais tocadas? Quais músicas ficaram mais tempo no topo das mais tocadas? "
   ]
  },
  {
   "cell_type": "markdown",
   "metadata": {},
   "source": [
    "Vamos <b>primeiro</b> importar as bibliotecas que nos ajudará na exploração e visualização dos dados. Vamos, também, abrir o arquivo e visualizar as primeiras 5 linhas. Além disso, vamos explorar nosso conjunto de dados."
   ]
  },
  {
   "cell_type": "code",
   "execution_count": 1,
   "metadata": {},
   "outputs": [],
   "source": [
    "%matplotlib inline\n",
    "import pandas as pd\n",
    "import matplotlib.pyplot as plt\n",
    "import seaborn as sns\n",
    "import numpy as np"
   ]
  },
  {
   "cell_type": "code",
   "execution_count": 2,
   "metadata": {},
   "outputs": [],
   "source": [
    "# Lendo o arquivo\n",
    "top_musicas = pd.read_csv('Top 500 Songs.csv', encoding='ISO-8859-1 ')"
   ]
  },
  {
   "cell_type": "code",
   "execution_count": 3,
   "metadata": {},
   "outputs": [
    {
     "data": {
      "text/html": [
       "<div>\n",
       "<style scoped>\n",
       "    .dataframe tbody tr th:only-of-type {\n",
       "        vertical-align: middle;\n",
       "    }\n",
       "\n",
       "    .dataframe tbody tr th {\n",
       "        vertical-align: top;\n",
       "    }\n",
       "\n",
       "    .dataframe thead th {\n",
       "        text-align: right;\n",
       "    }\n",
       "</style>\n",
       "<table border=\"1\" class=\"dataframe\">\n",
       "  <thead>\n",
       "    <tr style=\"text-align: right;\">\n",
       "      <th></th>\n",
       "      <th>title</th>\n",
       "      <th>description</th>\n",
       "      <th>appears on</th>\n",
       "      <th>artist</th>\n",
       "      <th>writers</th>\n",
       "      <th>producer</th>\n",
       "      <th>released</th>\n",
       "      <th>streak</th>\n",
       "      <th>position</th>\n",
       "    </tr>\n",
       "  </thead>\n",
       "  <tbody>\n",
       "    <tr>\n",
       "      <th>0</th>\n",
       "      <td>Like a Rolling Stone</td>\n",
       "      <td>\"I wrote it. I didn't fail. It was straight,\" ...</td>\n",
       "      <td>Highway 61 Revisited (Columbia)</td>\n",
       "      <td>Bob Dylan</td>\n",
       "      <td>Dylan</td>\n",
       "      <td>Tom Wilson</td>\n",
       "      <td>July, 1965</td>\n",
       "      <td>12 weeks</td>\n",
       "      <td>No. 2</td>\n",
       "    </tr>\n",
       "    <tr>\n",
       "      <th>1</th>\n",
       "      <td>(I Can't Get No) Satisfaction'</td>\n",
       "      <td>\"It's the riff heard round the world,\" says St...</td>\n",
       "      <td>Out of Our Heads (ABKCO)</td>\n",
       "      <td>The Rolling Stones</td>\n",
       "      <td>Mick Jagger, Keith Richards</td>\n",
       "      <td>Andrew Loog Oldham</td>\n",
       "      <td>May, 1965</td>\n",
       "      <td>14 weeks</td>\n",
       "      <td>No. 1</td>\n",
       "    </tr>\n",
       "    <tr>\n",
       "      <th>2</th>\n",
       "      <td>Imagine</td>\n",
       "      <td>John Lennon wrote \"Imagine,\" his greatest musi...</td>\n",
       "      <td>Imagine (Capitol/Apple)</td>\n",
       "      <td>John Lennon</td>\n",
       "      <td>John Lennon</td>\n",
       "      <td>Lennon, Phil Spector, Yoko Ono</td>\n",
       "      <td>October, 1971</td>\n",
       "      <td>9 weeks</td>\n",
       "      <td>No. 3</td>\n",
       "    </tr>\n",
       "    <tr>\n",
       "      <th>3</th>\n",
       "      <td>What's Going On</td>\n",
       "      <td>\"What's Going On\" is an exquisite plea for pea...</td>\n",
       "      <td>What's Going On (Tamla)</td>\n",
       "      <td>Marvin Gaye</td>\n",
       "      <td>Gaye, Renaldo Benson, Al Cleveland</td>\n",
       "      <td>Gaye</td>\n",
       "      <td>Feb, 1971</td>\n",
       "      <td>13 weeks</td>\n",
       "      <td>No. 2</td>\n",
       "    </tr>\n",
       "    <tr>\n",
       "      <th>4</th>\n",
       "      <td>Respect</td>\n",
       "      <td>Otis Redding wrote \"Respect\" and recorded it f...</td>\n",
       "      <td>I Never Loved a Man the Way I Love You (Atlantic)</td>\n",
       "      <td>Aretha Franklin</td>\n",
       "      <td>Otis Redding</td>\n",
       "      <td>Jerry Wexler</td>\n",
       "      <td>April, 1967</td>\n",
       "      <td>12 weeks</td>\n",
       "      <td>No. 1</td>\n",
       "    </tr>\n",
       "  </tbody>\n",
       "</table>\n",
       "</div>"
      ],
      "text/plain": [
       "                            title  \\\n",
       "0            Like a Rolling Stone   \n",
       "1  (I Can't Get No) Satisfaction'   \n",
       "2                         Imagine   \n",
       "3                 What's Going On   \n",
       "4                         Respect   \n",
       "\n",
       "                                         description  \\\n",
       "0  \"I wrote it. I didn't fail. It was straight,\" ...   \n",
       "1  \"It's the riff heard round the world,\" says St...   \n",
       "2  John Lennon wrote \"Imagine,\" his greatest musi...   \n",
       "3  \"What's Going On\" is an exquisite plea for pea...   \n",
       "4  Otis Redding wrote \"Respect\" and recorded it f...   \n",
       "\n",
       "                                          appears on              artist  \\\n",
       "0                    Highway 61 Revisited (Columbia)           Bob Dylan   \n",
       "1                           Out of Our Heads (ABKCO)  The Rolling Stones   \n",
       "2                            Imagine (Capitol/Apple)         John Lennon   \n",
       "3                            What's Going On (Tamla)         Marvin Gaye   \n",
       "4  I Never Loved a Man the Way I Love You (Atlantic)     Aretha Franklin   \n",
       "\n",
       "                              writers                        producer  \\\n",
       "0                               Dylan                     Tom Wilson    \n",
       "1         Mick Jagger, Keith Richards              Andrew Loog Oldham   \n",
       "2                         John Lennon  Lennon, Phil Spector, Yoko Ono   \n",
       "3  Gaye, Renaldo Benson, Al Cleveland                           Gaye    \n",
       "4                        Otis Redding                    Jerry Wexler   \n",
       "\n",
       "        released    streak position  \n",
       "0     July, 1965  12 weeks    No. 2  \n",
       "1      May, 1965  14 weeks    No. 1  \n",
       "2  October, 1971   9 weeks    No. 3  \n",
       "3      Feb, 1971  13 weeks    No. 2  \n",
       "4    April, 1967  12 weeks    No. 1  "
      ]
     },
     "execution_count": 3,
     "metadata": {},
     "output_type": "execute_result"
    }
   ],
   "source": [
    "# Primeiras 5 linhas do DataFrame\n",
    "top_musicas.head()"
   ]
  },
  {
   "cell_type": "code",
   "execution_count": 4,
   "metadata": {},
   "outputs": [
    {
     "data": {
      "text/plain": [
       "(500, 9)"
      ]
     },
     "execution_count": 4,
     "metadata": {},
     "output_type": "execute_result"
    }
   ],
   "source": [
    "# Quantidade de linhas e colunas do DataFrame\n",
    "top_musicas.shape"
   ]
  },
  {
   "cell_type": "code",
   "execution_count": 5,
   "metadata": {},
   "outputs": [
    {
     "name": "stdout",
     "output_type": "stream",
     "text": [
      "<class 'pandas.core.frame.DataFrame'>\n",
      "RangeIndex: 500 entries, 0 to 499\n",
      "Data columns (total 9 columns):\n",
      " #   Column       Non-Null Count  Dtype \n",
      "---  ------       --------------  ----- \n",
      " 0   title        500 non-null    object\n",
      " 1   description  500 non-null    object\n",
      " 2   appears on   500 non-null    object\n",
      " 3   artist       500 non-null    object\n",
      " 4   writers      500 non-null    object\n",
      " 5   producer     500 non-null    object\n",
      " 6   released     500 non-null    object\n",
      " 7   streak       494 non-null    object\n",
      " 8   position     393 non-null    object\n",
      "dtypes: object(9)\n",
      "memory usage: 35.3+ KB\n"
     ]
    }
   ],
   "source": [
    "# Informações sobre o tipo de dado de cada coluna\n",
    "top_musicas.info()"
   ]
  },
  {
   "cell_type": "code",
   "execution_count": 6,
   "metadata": {},
   "outputs": [
    {
     "data": {
      "text/html": [
       "<div>\n",
       "<style scoped>\n",
       "    .dataframe tbody tr th:only-of-type {\n",
       "        vertical-align: middle;\n",
       "    }\n",
       "\n",
       "    .dataframe tbody tr th {\n",
       "        vertical-align: top;\n",
       "    }\n",
       "\n",
       "    .dataframe thead th {\n",
       "        text-align: right;\n",
       "    }\n",
       "</style>\n",
       "<table border=\"1\" class=\"dataframe\">\n",
       "  <thead>\n",
       "    <tr style=\"text-align: right;\">\n",
       "      <th></th>\n",
       "      <th>count</th>\n",
       "      <th>unique</th>\n",
       "      <th>top</th>\n",
       "      <th>freq</th>\n",
       "    </tr>\n",
       "  </thead>\n",
       "  <tbody>\n",
       "    <tr>\n",
       "      <th>title</th>\n",
       "      <td>500</td>\n",
       "      <td>446</td>\n",
       "      <td>Crazy</td>\n",
       "      <td>4</td>\n",
       "    </tr>\n",
       "    <tr>\n",
       "      <th>description</th>\n",
       "      <td>500</td>\n",
       "      <td>450</td>\n",
       "      <td>With Lewis pounding the piano and leering, \"Gr...</td>\n",
       "      <td>2</td>\n",
       "    </tr>\n",
       "    <tr>\n",
       "      <th>appears on</th>\n",
       "      <td>500</td>\n",
       "      <td>392</td>\n",
       "      <td>The Ultimate Collection (Motown)</td>\n",
       "      <td>10</td>\n",
       "    </tr>\n",
       "    <tr>\n",
       "      <th>artist</th>\n",
       "      <td>500</td>\n",
       "      <td>248</td>\n",
       "      <td>The Beatles</td>\n",
       "      <td>23</td>\n",
       "    </tr>\n",
       "    <tr>\n",
       "      <th>writers</th>\n",
       "      <td>500</td>\n",
       "      <td>335</td>\n",
       "      <td>John Lennon, Paul McCartney</td>\n",
       "      <td>20</td>\n",
       "    </tr>\n",
       "    <tr>\n",
       "      <th>producer</th>\n",
       "      <td>500</td>\n",
       "      <td>296</td>\n",
       "      <td>George Martin</td>\n",
       "      <td>21</td>\n",
       "    </tr>\n",
       "    <tr>\n",
       "      <th>released</th>\n",
       "      <td>500</td>\n",
       "      <td>331</td>\n",
       "      <td>Oct. , 1969</td>\n",
       "      <td>7</td>\n",
       "    </tr>\n",
       "    <tr>\n",
       "      <th>streak</th>\n",
       "      <td>494</td>\n",
       "      <td>54</td>\n",
       "      <td>Did not chart</td>\n",
       "      <td>35</td>\n",
       "    </tr>\n",
       "    <tr>\n",
       "      <th>position</th>\n",
       "      <td>393</td>\n",
       "      <td>100</td>\n",
       "      <td>No. 1</td>\n",
       "      <td>76</td>\n",
       "    </tr>\n",
       "  </tbody>\n",
       "</table>\n",
       "</div>"
      ],
      "text/plain": [
       "            count unique                                                top  \\\n",
       "title         500    446                                              Crazy   \n",
       "description   500    450  With Lewis pounding the piano and leering, \"Gr...   \n",
       "appears on    500    392                   The Ultimate Collection (Motown)   \n",
       "artist        500    248                                        The Beatles   \n",
       "writers       500    335                        John Lennon, Paul McCartney   \n",
       "producer      500    296                                      George Martin   \n",
       "released      500    331                                        Oct. , 1969   \n",
       "streak        494     54                                      Did not chart   \n",
       "position      393    100                                              No. 1   \n",
       "\n",
       "            freq  \n",
       "title          4  \n",
       "description    2  \n",
       "appears on    10  \n",
       "artist        23  \n",
       "writers       20  \n",
       "producer      21  \n",
       "released       7  \n",
       "streak        35  \n",
       "position      76  "
      ]
     },
     "execution_count": 6,
     "metadata": {},
     "output_type": "execute_result"
    }
   ],
   "source": [
    "# Estatísticas resumidas de todas as colunas\n",
    "top_musicas.describe().T"
   ]
  },
  {
   "cell_type": "code",
   "execution_count": 7,
   "metadata": {},
   "outputs": [
    {
     "data": {
      "text/plain": [
       "Index(['title', 'description', 'appears on', 'artist', 'writers', 'producer',\n",
       "       'released', 'streak', 'position'],\n",
       "      dtype='object')"
      ]
     },
     "execution_count": 7,
     "metadata": {},
     "output_type": "execute_result"
    }
   ],
   "source": [
    "# Nome das colunas do DataFrame\n",
    "top_musicas.columns"
   ]
  },
  {
   "cell_type": "markdown",
   "metadata": {},
   "source": [
    "<h1><b>Entendendo os nossos dados</b></h1>\n",
    "\n",
    "O conjunto de dados possui colunas que descrevem as músicas como um todo, como o título da música, descrição da canção, onde apareceu, artista(s) que cantou(cantaram) a música, compositores, produtores, data de lançamento, quanto tempo ficou no topo da lista e qual era a posição dele durante a sequência.\n",
    "<br>\n",
    "Vamos alterar o nome das colunas para o português, para ficarmos mais familiarizados. O único que não vamos traduzir é a coluna 'Streak', pois manter a palavra é mais simples do que traduzi-la."
   ]
  },
  {
   "cell_type": "code",
   "execution_count": 8,
   "metadata": {},
   "outputs": [],
   "source": [
    "# Alterando o nome das colunas para ficar em português\n",
    "top_musicas.columns = ['Titulo', 'Descrição', 'Onde apareceu', 'Artista', 'Compositor', 'Produtor', 'Lançamento', 'Streak', 'Posição']"
   ]
  },
  {
   "cell_type": "markdown",
   "metadata": {},
   "source": [
    "<h1><b>Limpeza dos dados</b></h1>\n",
    "<br>\n",
    "Para podermos fazer uma análise mais correta possível, devemos limpar os dados. Durante nossa exploração dos dados, quando tiramos a informação de cada coluna, foi visto que o conjunto de dados possui 500 linhas não nulas, como esperado, porém na coluna 'streak', há 6 linhas com valor nulo. Em vez de jogarmos fora essas linhas com valores nulos, vamos substituir estes valores por uma string 'Vazio', para mantermos as 500 linhas do Dataset.\n",
    "<br>\n",
    "<br>\n",
    "Vamos verificar também se há linhas duplicadas, para ver se há realmente 500 linhas com músicas diferentes. Como será demonstrado, não há essas 500 músicas, mas como ainda é um valor de 450 valores únicos, a análise será interessante de qualquer forma. Vamos excluir estas linhas duplicadas, para não interferir na nossa análise."
   ]
  },
  {
   "cell_type": "code",
   "execution_count": 9,
   "metadata": {},
   "outputs": [
    {
     "data": {
      "text/plain": [
       "Titulo             0\n",
       "Descrição          0\n",
       "Onde apareceu      0\n",
       "Artista            0\n",
       "Compositor         0\n",
       "Produtor           0\n",
       "Lançamento         0\n",
       "Streak             6\n",
       "Posição          107\n",
       "dtype: int64"
      ]
     },
     "execution_count": 9,
     "metadata": {},
     "output_type": "execute_result"
    }
   ],
   "source": [
    "# Verificando colunas com valores nulos\n",
    "top_musicas.isnull().sum()"
   ]
  },
  {
   "cell_type": "code",
   "execution_count": 10,
   "metadata": {},
   "outputs": [],
   "source": [
    "# Trocando valores nulos por um valor padrão\n",
    "top_musicas.fillna('Vazio', inplace=True)"
   ]
  },
  {
   "cell_type": "code",
   "execution_count": 11,
   "metadata": {},
   "outputs": [
    {
     "data": {
      "text/plain": [
       "Titulo           0\n",
       "Descrição        0\n",
       "Onde apareceu    0\n",
       "Artista          0\n",
       "Compositor       0\n",
       "Produtor         0\n",
       "Lançamento       0\n",
       "Streak           0\n",
       "Posição          0\n",
       "dtype: int64"
      ]
     },
     "execution_count": 11,
     "metadata": {},
     "output_type": "execute_result"
    }
   ],
   "source": [
    "# Verificando se ainda há valores nulos\n",
    "top_musicas.isnull().sum()"
   ]
  },
  {
   "cell_type": "code",
   "execution_count": 12,
   "metadata": {},
   "outputs": [
    {
     "data": {
      "text/plain": [
       "50"
      ]
     },
     "execution_count": 12,
     "metadata": {},
     "output_type": "execute_result"
    }
   ],
   "source": [
    "# Verificando se há linhas duplicadas\n",
    "top_musicas.duplicated().sum()"
   ]
  },
  {
   "cell_type": "code",
   "execution_count": 13,
   "metadata": {},
   "outputs": [],
   "source": [
    "# Excluíndo valores duplicados\n",
    "top_musicas.drop_duplicates(inplace=True)"
   ]
  },
  {
   "cell_type": "code",
   "execution_count": 14,
   "metadata": {},
   "outputs": [
    {
     "data": {
      "text/plain": [
       "0"
      ]
     },
     "execution_count": 14,
     "metadata": {},
     "output_type": "execute_result"
    }
   ],
   "source": [
    "# Verificando se ainda há linhas duplicadas\n",
    "top_musicas.duplicated().sum()"
   ]
  },
  {
   "cell_type": "markdown",
   "metadata": {},
   "source": [
    "<h1><b>Primeira pergunta</b></h1>\n",
    "<br>\n",
    "Quais artistas possuem o maior número de músicas nas 500 melhores músicas?\n",
    "<br>\n",
    "<br>\n",
    "O artista com maior número de músicas são The Beatles com 20 músicas, seguido um pouco de longe, com 12 músicas por Bob Dylan. Em terceiro aparecem empatados com 10 músicas, Elvis Presley e The Rolling Stones."
   ]
  },
  {
   "cell_type": "code",
   "execution_count": 15,
   "metadata": {},
   "outputs": [
    {
     "data": {
      "text/plain": [
       "Artista\n",
       "The Beatles                    20\n",
       "Bob Dylan                      12\n",
       "Elvis Presley                  10\n",
       "The Rolling Stones             10\n",
       "U2                              7\n",
       "The Beach Boys                  7\n",
       "The Jimi Hendrix Experience     6\n",
       "Chuck Berry                     5\n",
       "Led Zeppelin                    5\n",
       "Ray Charles                     5\n",
       "Name: Titulo, dtype: int64"
      ]
     },
     "execution_count": 15,
     "metadata": {},
     "output_type": "execute_result"
    }
   ],
   "source": [
    "pergunta1 = top_musicas.groupby('Artista')['Titulo'].count().sort_values(ascending=False).head(10)\n",
    "pergunta1"
   ]
  },
  {
   "cell_type": "code",
   "execution_count": 16,
   "metadata": {},
   "outputs": [
    {
     "data": {
      "image/png": "[encoded data removed]",
      "text/plain": [
       "<Figure size 1080x720 with 1 Axes>"
      ]
     },
     "metadata": {
      "needs_background": "light"
     },
     "output_type": "display_data"
    }
   ],
   "source": [
    "plt.figure(figsize=(15,10))\n",
    "pergunta1.plot(kind='bar')\n",
    "plt.title('Artistas com o maior número de músicas entre as 500 melhores músicas de todos os tempos')\n",
    "plt.xlabel('Artistas')\n",
    "plt.ylabel('Número de músicas')\n",
    "plt.yticks([2, 4, 6, 8, 10, 12, 14, 16, 18, 20])\n",
    "plt.show()"
   ]
  },
  {
   "cell_type": "markdown",
   "metadata": {},
   "source": [
    "<h1><b>Segunda pergunta</b></h1>\n",
    "<br>\n",
    "Qual artista ficou mais tempo em primeiro lugar das músicas mais tocadas?\n"
   ]
  },
  {
   "cell_type": "code",
   "execution_count": 17,
   "metadata": {},
   "outputs": [
    {
     "data": {
      "text/plain": [
       "Posição\n",
       "Vazio      94\n",
       " No. 1     67\n",
       "No. 1      30\n",
       " No. 2     21\n",
       " No. 3     13\n",
       " No. 10     9\n",
       " No. 8      9\n",
       " No. 12     9\n",
       " No. 7      9\n",
       " No. 6      8\n",
       "Name: Artista, dtype: int64"
      ]
     },
     "execution_count": 17,
     "metadata": {},
     "output_type": "execute_result"
    }
   ],
   "source": [
    "pergunta2 = top_musicas.groupby('Posição')['Artista'].count().sort_values(ascending=False).head(10)\n",
    "pergunta2"
   ]
  },
  {
   "cell_type": "markdown",
   "metadata": {},
   "source": [
    "<b>Percebe-se que há algum ruído na coluna Posição, que aparece o 'No. 1' duas vezes, provavelmente por causa do uso de espaço. Vamos resolver isto.</b>"
   ]
  },
  {
   "cell_type": "code",
   "execution_count": 18,
   "metadata": {},
   "outputs": [],
   "source": [
    "# Removendo espaços \n",
    "top_musicas['Posição'] = top_musicas['Posição'].str.lstrip()"
   ]
  },
  {
   "cell_type": "code",
   "execution_count": 19,
   "metadata": {},
   "outputs": [
    {
     "data": {
      "text/plain": [
       "Posição\n",
       "No. 1     97\n",
       "Vazio     94\n",
       "No. 2     27\n",
       "No. 3     18\n",
       "No. 10    11\n",
       "No. 6     11\n",
       "No. 8     11\n",
       "No. 12    10\n",
       "No. 7     10\n",
       "No. 4      9\n",
       "Name: Artista, dtype: int64"
      ]
     },
     "execution_count": 19,
     "metadata": {},
     "output_type": "execute_result"
    }
   ],
   "source": [
    "# Executando novamente o groupby para verificar se o problema foi resolvido\n",
    "posicoes = top_musicas.groupby('Posição')['Artista'].count().sort_values(ascending=False).head(10)\n",
    "posicoes"
   ]
  },
  {
   "cell_type": "code",
   "execution_count": 30,
   "metadata": {},
   "outputs": [
    {
     "data": {
      "text/plain": [
       "Streak\n",
       " 21 weeks                  1\n",
       "1 week                     1\n",
       "10 weeks                  12\n",
       "11 weeks                  31\n",
       "12 weeks                  26\n",
       "13 weeks                  28\n",
       "13 weeks, No. 6            1\n",
       "14 weeks                  31\n",
       "15 weeks                  29\n",
       "15 weeks, No. 7            1\n",
       "16 weeks                  29\n",
       "17 weeks                  15\n",
       "18 weeks                  10\n",
       "19 weeks                  13\n",
       "2 weeks                    2\n",
       "20 weeks                  15\n",
       "21 weeks                  15\n",
       "22 weeks                   7\n",
       "23 weeks                   2\n",
       "24 weeks                   8\n",
       "25 weeks                   7\n",
       "26 weeks                   5\n",
       "27 weeks                  10\n",
       "27 weeks, No. 1            1\n",
       "28 weeks                   2\n",
       "29 weeks                   1\n",
       "3 weeks                    1\n",
       "30 weeks                   2\n",
       "31 weeks                   1\n",
       "32 weeks                   1\n",
       "33 weeks                   2\n",
       "39 weeks                   1\n",
       "4 weeks                    4\n",
       "42 weeks                   1\n",
       "46 weeks                   1\n",
       "5 weeks                    3\n",
       "6 weeks                    2\n",
       "7 weeks                    7\n",
       "7 weeks, No. 31            1\n",
       "8 weeks                   14\n",
       "9 weeks                    9\n",
       "Did Not Chart             13\n",
       "Did not chart             31\n",
       "Did not chart              7\n",
       "Non-Single                 9\n",
       "Non-single                18\n",
       "Non-single                 1\n",
       "Non-single in U.S.         1\n",
       "Non-single in the U.S.     1\n",
       "Predates chart             1\n",
       "Predates pop charts        1\n",
       "Vazio                      5\n",
       "did not chart              1\n",
       "none                       7\n",
       "predates chart             1\n",
       "Name: Artista, dtype: int64"
      ]
     },
     "execution_count": 30,
     "metadata": {},
     "output_type": "execute_result"
    }
   ],
   "source": [
    "tempo = top_musicas.groupby('Streak')['Artista']\n",
    "tempo.count()"
   ]
  },
  {
   "cell_type": "markdown",
   "metadata": {},
   "source": [
    "<b>O maior tempo seguido registrado no conjunto de dados foi 46 semanas, porém não foi na primeira colocação. O Artista que ficou mais tempo na primeira colocação foi Chubby Checker, com o título 'The Twist', com 39 semanas.</b>"
   ]
  },
  {
   "cell_type": "code",
   "execution_count": 33,
   "metadata": {},
   "outputs": [
    {
     "data": {
      "text/html": [
       "<div>\n",
       "<style scoped>\n",
       "    .dataframe tbody tr th:only-of-type {\n",
       "        vertical-align: middle;\n",
       "    }\n",
       "\n",
       "    .dataframe tbody tr th {\n",
       "        vertical-align: top;\n",
       "    }\n",
       "\n",
       "    .dataframe thead th {\n",
       "        text-align: right;\n",
       "    }\n",
       "</style>\n",
       "<table border=\"1\" class=\"dataframe\">\n",
       "  <thead>\n",
       "    <tr style=\"text-align: right;\">\n",
       "      <th></th>\n",
       "      <th>Titulo</th>\n",
       "      <th>Descrição</th>\n",
       "      <th>Onde apareceu</th>\n",
       "      <th>Artista</th>\n",
       "      <th>Compositor</th>\n",
       "      <th>Produtor</th>\n",
       "      <th>Lançamento</th>\n",
       "      <th>Streak</th>\n",
       "      <th>Posição</th>\n",
       "    </tr>\n",
       "  </thead>\n",
       "  <tbody>\n",
       "    <tr>\n",
       "      <th>493</th>\n",
       "      <td>The Twist</td>\n",
       "      <td>\"The Twist\" began as a B side for Ballard and ...</td>\n",
       "      <td>Greatest Hits (Prime Cuts)</td>\n",
       "      <td>Chubby Checker</td>\n",
       "      <td>Hank Ballard</td>\n",
       "      <td>Karl Mann</td>\n",
       "      <td>Aug. , 1960</td>\n",
       "      <td>39 weeks</td>\n",
       "      <td>No. 1</td>\n",
       "    </tr>\n",
       "  </tbody>\n",
       "</table>\n",
       "</div>"
      ],
      "text/plain": [
       "        Titulo                                          Descrição  \\\n",
       "493  The Twist  \"The Twist\" began as a B side for Ballard and ...   \n",
       "\n",
       "                  Onde apareceu         Artista    Compositor   Produtor  \\\n",
       "493  Greatest Hits (Prime Cuts)  Chubby Checker  Hank Ballard  Karl Mann   \n",
       "\n",
       "      Lançamento    Streak Posição  \n",
       "493  Aug. , 1960  39 weeks   No. 1  "
      ]
     },
     "execution_count": 33,
     "metadata": {},
     "output_type": "execute_result"
    }
   ],
   "source": [
    "# Filtrando o conjunto de dados para responder a segunda pergunta\n",
    "primeira_posicao = top_musicas[top_musicas['Posição'] == 'No. 1']\n",
    "primeira_posicao[primeira_posicao['Streak'] == '39 weeks']"
   ]
  },
  {
   "cell_type": "markdown",
   "metadata": {},
   "source": [
    "<h1><b>Terceira pergunta</b></h1>\n",
    "<br>\n",
    "Quais músicas ficaram mais tempo no topo das mais tocadas?\n",
    "<br>\n",
    "<br>\n",
    "Como visto na pergunta anterior, o maior tempo seguido registrado no conjunto de dados foi <b>46 semanas pelo artista Kelly Clarkson, com o título 'Since U Been Gone'.</b>"
   ]
  },
  {
   "cell_type": "code",
   "execution_count": 35,
   "metadata": {},
   "outputs": [
    {
     "data": {
      "text/html": [
       "<div>\n",
       "<style scoped>\n",
       "    .dataframe tbody tr th:only-of-type {\n",
       "        vertical-align: middle;\n",
       "    }\n",
       "\n",
       "    .dataframe tbody tr th {\n",
       "        vertical-align: top;\n",
       "    }\n",
       "\n",
       "    .dataframe thead th {\n",
       "        text-align: right;\n",
       "    }\n",
       "</style>\n",
       "<table border=\"1\" class=\"dataframe\">\n",
       "  <thead>\n",
       "    <tr style=\"text-align: right;\">\n",
       "      <th></th>\n",
       "      <th>Titulo</th>\n",
       "      <th>Descrição</th>\n",
       "      <th>Onde apareceu</th>\n",
       "      <th>Artista</th>\n",
       "      <th>Compositor</th>\n",
       "      <th>Produtor</th>\n",
       "      <th>Lançamento</th>\n",
       "      <th>Streak</th>\n",
       "      <th>Posição</th>\n",
       "    </tr>\n",
       "  </thead>\n",
       "  <tbody>\n",
       "    <tr>\n",
       "      <th>468</th>\n",
       "      <td>Since U Been Gone</td>\n",
       "      <td>Pop gurus Max Martin and Lukasz \"Dr. Luke\" Got...</td>\n",
       "      <td>Breakaway (RCA)</td>\n",
       "      <td>Kelly Clarkson</td>\n",
       "      <td>Dr. Luke, Max Martin</td>\n",
       "      <td>Dr. Luke, Martin</td>\n",
       "      <td>Nov. , 2004</td>\n",
       "      <td>46 weeks</td>\n",
       "      <td>No. 2</td>\n",
       "    </tr>\n",
       "  </tbody>\n",
       "</table>\n",
       "</div>"
      ],
      "text/plain": [
       "                Titulo                                          Descrição  \\\n",
       "468  Since U Been Gone  Pop gurus Max Martin and Lukasz \"Dr. Luke\" Got...   \n",
       "\n",
       "       Onde apareceu         Artista            Compositor          Produtor  \\\n",
       "468  Breakaway (RCA)  Kelly Clarkson  Dr. Luke, Max Martin  Dr. Luke, Martin   \n",
       "\n",
       "      Lançamento    Streak Posição  \n",
       "468  Nov. , 2004  46 weeks   No. 2  "
      ]
     },
     "execution_count": 35,
     "metadata": {},
     "output_type": "execute_result"
    }
   ],
   "source": [
    "# Filtrando o conjunto de dados para responder a terceira pergunta\n",
    "musica_maior_tempo = top_musicas[top_musicas['Streak'] == '46 weeks']\n",
    "musica_maior_tempo"
   ]
  }
 ],
 "metadata": {
  "kernelspec": {
   "display_name": "Python 3",
   "language": "python",
   "name": "python3"
  },
  "language_info": {
   "codemirror_mode": {
    "name": "ipython",
    "version": 3
   },
   "file_extension": ".py",
   "mimetype": "text/x-python",
   "name": "python",
   "nbconvert_exporter": "python",
   "pygments_lexer": "ipython3",
   "version": "3.8.3"
  }
 },
 "nbformat": 4,
 "nbformat_minor": 4
}
