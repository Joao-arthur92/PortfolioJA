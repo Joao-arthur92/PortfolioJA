{
 "cells": [
  {
   "cell_type": "markdown",
   "metadata": {},
   "source": [
    "<h1>Classificador de vinhos</h1>\n",
    "<br>\n",
    "Dataset disponível no <a href='https://www.kaggle.com/dell4010/wine-dataset'>Kaggle</a>\n",
    "<br>\n",
    "Este modelo foi produzido com base no vídeo da Didática Tech no <a href='https://www.youtube.com/watch?v=DNegkxwQJuY&ab_channel=Did%C3%A1ticaTech'>Youtube</a>\n",
    "<br>\n",
    "<br>\n",
    "Este conjunto de dados possui colunas com características dos vinhos, como acidez, pH, densidade, entre outros, que são chamados de atributos. Será usado para classificar se o vinho é tinto ou branco, que é nossa variável alvo.\n",
    "<br>\n",
    "<br>\n",
    "O foco é criar um algoritmo de Supervising Learning, no qual classificará como tinto ou branco através dos atributos do vinho. O conjunto de dados será dividido em um conjunto de treino para o algoritmo e a outra parte será para o teste, para verificarmos qual a porcentagem de acerto dele na classificação.\n",
    "<br>\n",
    "<br>\n",
    "O algoritmo que será usado utiliza <b>árvores de decisão</b>."
   ]
  },
  {
   "cell_type": "markdown",
   "metadata": {},
   "source": [
    "<h1>Árvores de decisão (Decision Tree) - Supervising Learning</h1>\n",
    "<br>\n",
    "Uma árvore de decisão é um algoritmo de Supervising Learning (Aprendizado supervisionado). <b>O que seria um algoritmo de Supervising Learning?</b>\n",
    "<br>\n",
    "<br>\n",
    "É um algoritmo no qual trabalha com conjuntos de dados que conhecemos e sabemos os rótulos que uma coleção de características destes dados podem ter, mas treinamos o nosso algoritmo para fazer este trabalho de identificação para nós. Um exemplo será feito aqui neste projeto, para identificar se o vinho é tinto ou branco. Mas há também exemplos no qual procura-se um valor (ou um valor contínuo) para essa coleção de características, como por exemplo um preço de uma casa. Este tipo de problema é resolvido com outros tipos de algoritmo, que não convém ser ditos neste projeto e serão explicados em outro.\n",
    "<br>\n",
    "<br>\n",
    "Voltando a explicação de como a Árvore de decisão funciona, ele é uma representação de uma tabela de decisão sob a forma de árvore. Árvores, de um modo geral em computação, são estruturas de dados formadas por um conjunto de elementos que armazenam informações ou regras chamadas nós. Além disso, toda árvore possui um nó chamado raiz, que possui o ponto de partida e ligações para outros elementos, denominados filhos. Esses filhos podem possuir seus próprios filhos que por sua vez também possuem os seus. O nó que não possui filho é conhecido como nó folha. \n",
    "<br>\n",
    "<br>\n",
    "Ou seja, este tipo de algoritmo cria regras para indicar qual classe um conjunto de características pertence.\n",
    "<br>\n",
    "<br>\n",
    "Um jeito simples de se pensar em árvores de decisão são os fluxogramas que não possuem um loop."
   ]
  },
  {
   "cell_type": "markdown",
   "metadata": {},
   "source": [
    "<h1>Por que usar um algoritmo de classificação para este conjunto de dados?</h1>\n",
    "<br>\n",
    "Os algoritmos de classificação tem como objetivo classificar itens ou amostras de acordo com as características observadas em classes. No conjunto de dados dos vinhos, classificarei em duas classes: Vinho tinto e Vinho branco.\n",
    "<br>\n",
    "<br>\n",
    "Para utilizar algoritmos de classificação, temos uma etapa inicial, com 3 passos.\n",
    "<br>\n",
    "<br>\n",
    "Etapa Inicial\n",
    "<br>\n",
    "<br>\n",
    "Extração de características;\n",
    "<br>\n",
    "<br>\n",
    "Algoritmo de aprendizagem;\n",
    "<br>\n",
    "<br>\n",
    "Modelo aprendido;\n",
    "<br>\n",
    "<br>\n",
    "Primeiramente extraí-se as características, ou seja, coleta-se os dados que serão utilizados para que a máquina possa procurar por padrões e com isso gerar o modelo. Separa-se a classe daquele conjunto de dados em outro conjunto de dados, para posteriormente ser mostrado para o modelo que com aquela linha de características, com padrão X, a classe correta é tinto ou branco.\n",
    "<br>\n",
    "No passo do algoritmo de aprendizagem é onde mostra para o modelo a que classe pertence aquele conjunto de características descritos na linha. \n",
    "<br>\n",
    "Agora a máquina usará estes dados para identificar um padrão e com isso aprender.\n",
    "<br>\n",
    "<br>\n",
    "2ª Etapa\n",
    "<br>\n",
    "<br>\n",
    "Extração de características;\n",
    "<br>\n",
    "<br>\n",
    "Modelo aprendido;\n",
    "<br>\n",
    "<br>\n",
    "Na segunda etapa pegamos uma nova amostra, cuja classificação ainda não conhecemos, mas temos as características:\n",
    "Então é inserido estes dados no modelo aprendido – aquele da etapa inicial – <b>e a máquina classifica a amostra oculta.</b>"
   ]
  },
  {
   "cell_type": "markdown",
   "metadata": {},
   "source": [
    "<h1>Por que Extra Trees Classifier?</h1>\n",
    "<br>\n",
    "<b>fonte: didatica.tech</b>\n",
    "<br>\n",
    "<br>\n",
    "O algoritmo de machine learning ExtraTrees (Extremely Randomized Trees) cria muitas árvores de decisão de maneira aleatória, para então através da combinação dos resultados de cada árvore encontrar a resposta final. Seu principal diferencial está no fato deste processo ser extremamente aleatório, contribuindo assim para modelos mais generalizáveis.\n",
    "<br>\n",
    "<br>\n",
    "Após este processo de aleatoriedade, dentro do modelo são feitos os cálculos necessários para a otimização da árvore.\n",
    "<br>\n",
    "<br>\n",
    "A parte positiva é que cria um modelo menos enviesado, ou seja, é um modelo mais complexo; e a parte negativa é que, se por acaso, existirem muitas variáveis que não estão ajudando no nosso problema e, por consequência, não deveriam estar ali, o algoritmo poderá acabar escolhendo essas variáveis para começar os nós, dando a elas um destaque grande e indevido. \n",
    "<br>\n",
    "<br>\n",
    "No caso do ExtraTrees, então, o pré-processamento ganha ainda mais importância. Onde, eventualmente, se faça uma seleção das variáveis, eliminando as indesejadas, que só acrescentam ruídos e não ajudam a classificar os dados."
   ]
  },
  {
   "cell_type": "markdown",
   "metadata": {},
   "source": [
    "<h1>Importação das bibliotecas</h1>\n",
    "<br>"
   ]
  },
  {
   "cell_type": "code",
   "execution_count": 24,
   "metadata": {},
   "outputs": [],
   "source": [
    "import pandas as pd\n",
    "import numpy as np\n",
    "import matplotlib.pyplot as plt\n",
    "from sklearn.model_selection import train_test_split\n",
    "from sklearn.ensemble import ExtraTreesClassifier"
   ]
  },
  {
   "cell_type": "code",
   "execution_count": 2,
   "metadata": {},
   "outputs": [],
   "source": [
    "# Lendo o arquivo\n",
    "df = pd.read_csv('wine_dataset.csv')"
   ]
  },
  {
   "cell_type": "code",
   "execution_count": 3,
   "metadata": {},
   "outputs": [
    {
     "data": {
      "text/html": [
       "<div>\n",
       "<style scoped>\n",
       "    .dataframe tbody tr th:only-of-type {\n",
       "        vertical-align: middle;\n",
       "    }\n",
       "\n",
       "    .dataframe tbody tr th {\n",
       "        vertical-align: top;\n",
       "    }\n",
       "\n",
       "    .dataframe thead th {\n",
       "        text-align: right;\n",
       "    }\n",
       "</style>\n",
       "<table border=\"1\" class=\"dataframe\">\n",
       "  <thead>\n",
       "    <tr style=\"text-align: right;\">\n",
       "      <th></th>\n",
       "      <th>fixed_acidity</th>\n",
       "      <th>volatile_acidity</th>\n",
       "      <th>citric_acid</th>\n",
       "      <th>residual_sugar</th>\n",
       "      <th>chlorides</th>\n",
       "      <th>free_sulfur_dioxide</th>\n",
       "      <th>total_sulfur_dioxide</th>\n",
       "      <th>density</th>\n",
       "      <th>pH</th>\n",
       "      <th>sulphates</th>\n",
       "      <th>alcohol</th>\n",
       "      <th>quality</th>\n",
       "      <th>style</th>\n",
       "    </tr>\n",
       "  </thead>\n",
       "  <tbody>\n",
       "    <tr>\n",
       "      <th>0</th>\n",
       "      <td>7.4</td>\n",
       "      <td>0.70</td>\n",
       "      <td>0.00</td>\n",
       "      <td>1.9</td>\n",
       "      <td>0.076</td>\n",
       "      <td>11.0</td>\n",
       "      <td>34.0</td>\n",
       "      <td>0.9978</td>\n",
       "      <td>3.51</td>\n",
       "      <td>0.56</td>\n",
       "      <td>9.4</td>\n",
       "      <td>5</td>\n",
       "      <td>red</td>\n",
       "    </tr>\n",
       "    <tr>\n",
       "      <th>1</th>\n",
       "      <td>7.8</td>\n",
       "      <td>0.88</td>\n",
       "      <td>0.00</td>\n",
       "      <td>2.6</td>\n",
       "      <td>0.098</td>\n",
       "      <td>25.0</td>\n",
       "      <td>67.0</td>\n",
       "      <td>0.9968</td>\n",
       "      <td>3.20</td>\n",
       "      <td>0.68</td>\n",
       "      <td>9.8</td>\n",
       "      <td>5</td>\n",
       "      <td>red</td>\n",
       "    </tr>\n",
       "    <tr>\n",
       "      <th>2</th>\n",
       "      <td>7.8</td>\n",
       "      <td>0.76</td>\n",
       "      <td>0.04</td>\n",
       "      <td>2.3</td>\n",
       "      <td>0.092</td>\n",
       "      <td>15.0</td>\n",
       "      <td>54.0</td>\n",
       "      <td>0.9970</td>\n",
       "      <td>3.26</td>\n",
       "      <td>0.65</td>\n",
       "      <td>9.8</td>\n",
       "      <td>5</td>\n",
       "      <td>red</td>\n",
       "    </tr>\n",
       "    <tr>\n",
       "      <th>3</th>\n",
       "      <td>11.2</td>\n",
       "      <td>0.28</td>\n",
       "      <td>0.56</td>\n",
       "      <td>1.9</td>\n",
       "      <td>0.075</td>\n",
       "      <td>17.0</td>\n",
       "      <td>60.0</td>\n",
       "      <td>0.9980</td>\n",
       "      <td>3.16</td>\n",
       "      <td>0.58</td>\n",
       "      <td>9.8</td>\n",
       "      <td>6</td>\n",
       "      <td>red</td>\n",
       "    </tr>\n",
       "    <tr>\n",
       "      <th>4</th>\n",
       "      <td>7.4</td>\n",
       "      <td>0.70</td>\n",
       "      <td>0.00</td>\n",
       "      <td>1.9</td>\n",
       "      <td>0.076</td>\n",
       "      <td>11.0</td>\n",
       "      <td>34.0</td>\n",
       "      <td>0.9978</td>\n",
       "      <td>3.51</td>\n",
       "      <td>0.56</td>\n",
       "      <td>9.4</td>\n",
       "      <td>5</td>\n",
       "      <td>red</td>\n",
       "    </tr>\n",
       "  </tbody>\n",
       "</table>\n",
       "</div>"
      ],
      "text/plain": [
       "   fixed_acidity  volatile_acidity  citric_acid  residual_sugar  chlorides  \\\n",
       "0            7.4              0.70         0.00             1.9      0.076   \n",
       "1            7.8              0.88         0.00             2.6      0.098   \n",
       "2            7.8              0.76         0.04             2.3      0.092   \n",
       "3           11.2              0.28         0.56             1.9      0.075   \n",
       "4            7.4              0.70         0.00             1.9      0.076   \n",
       "\n",
       "   free_sulfur_dioxide  total_sulfur_dioxide  density    pH  sulphates  \\\n",
       "0                 11.0                  34.0   0.9978  3.51       0.56   \n",
       "1                 25.0                  67.0   0.9968  3.20       0.68   \n",
       "2                 15.0                  54.0   0.9970  3.26       0.65   \n",
       "3                 17.0                  60.0   0.9980  3.16       0.58   \n",
       "4                 11.0                  34.0   0.9978  3.51       0.56   \n",
       "\n",
       "   alcohol  quality style  \n",
       "0      9.4        5   red  \n",
       "1      9.8        5   red  \n",
       "2      9.8        5   red  \n",
       "3      9.8        6   red  \n",
       "4      9.4        5   red  "
      ]
     },
     "execution_count": 3,
     "metadata": {},
     "output_type": "execute_result"
    }
   ],
   "source": [
    "df.head()"
   ]
  },
  {
   "cell_type": "code",
   "execution_count": 4,
   "metadata": {},
   "outputs": [],
   "source": [
    "# Tornando a variável alvo númerica, para o algoritmo entender\n",
    "df['style'] = df['style'].replace('red', 0)"
   ]
  },
  {
   "cell_type": "code",
   "execution_count": 5,
   "metadata": {},
   "outputs": [],
   "source": [
    "# Tornando a variável alvo númerica, para o algoritmo entender\n",
    "df['style'] = df['style'].replace('white', 1)"
   ]
  },
  {
   "cell_type": "code",
   "execution_count": 6,
   "metadata": {},
   "outputs": [],
   "source": [
    "# Separando o DataFrame com as variáveis alvo e preditoras\n",
    "y = df['style']\n",
    "x = df.drop('style', axis=1)"
   ]
  },
  {
   "cell_type": "code",
   "execution_count": 26,
   "metadata": {},
   "outputs": [],
   "source": [
    "# Dividindo o conjunto de dados em treino e teste para o algoritmo\n",
    "X_treino, X_teste, y_treino, y_teste = train_test_split(x, y, test_size=0.3, random_state=10)"
   ]
  },
  {
   "cell_type": "code",
   "execution_count": 27,
   "metadata": {},
   "outputs": [
    {
     "data": {
      "text/plain": [
       "ExtraTreesClassifier()"
      ]
     },
     "execution_count": 27,
     "metadata": {},
     "output_type": "execute_result"
    }
   ],
   "source": [
    "# Criação do modelo\n",
    "modelo = ExtraTreesClassifier()\n",
    "modelo.fit(X_treino, y_treino)"
   ]
  },
  {
   "cell_type": "code",
   "execution_count": 28,
   "metadata": {},
   "outputs": [
    {
     "data": {
      "text/plain": [
       "0.9958974358974358"
      ]
     },
     "execution_count": 28,
     "metadata": {},
     "output_type": "execute_result"
    }
   ],
   "source": [
    "# Resultado do modelo\n",
    "modelo.score(X_teste, y_teste)"
   ]
  },
  {
   "cell_type": "code",
   "execution_count": 29,
   "metadata": {},
   "outputs": [
    {
     "data": {
      "text/html": [
       "<div>\n",
       "<style scoped>\n",
       "    .dataframe tbody tr th:only-of-type {\n",
       "        vertical-align: middle;\n",
       "    }\n",
       "\n",
       "    .dataframe tbody tr th {\n",
       "        vertical-align: top;\n",
       "    }\n",
       "\n",
       "    .dataframe thead th {\n",
       "        text-align: right;\n",
       "    }\n",
       "</style>\n",
       "<table border=\"1\" class=\"dataframe\">\n",
       "  <thead>\n",
       "    <tr style=\"text-align: right;\">\n",
       "      <th></th>\n",
       "      <th>fixed_acidity</th>\n",
       "      <th>volatile_acidity</th>\n",
       "      <th>citric_acid</th>\n",
       "      <th>residual_sugar</th>\n",
       "      <th>chlorides</th>\n",
       "      <th>free_sulfur_dioxide</th>\n",
       "      <th>total_sulfur_dioxide</th>\n",
       "      <th>density</th>\n",
       "      <th>pH</th>\n",
       "      <th>sulphates</th>\n",
       "      <th>alcohol</th>\n",
       "      <th>quality</th>\n",
       "    </tr>\n",
       "  </thead>\n",
       "  <tbody>\n",
       "    <tr>\n",
       "      <th>1571</th>\n",
       "      <td>6.4</td>\n",
       "      <td>0.38</td>\n",
       "      <td>0.14</td>\n",
       "      <td>2.2</td>\n",
       "      <td>0.038</td>\n",
       "      <td>15.0</td>\n",
       "      <td>25.0</td>\n",
       "      <td>0.99514</td>\n",
       "      <td>3.44</td>\n",
       "      <td>0.65</td>\n",
       "      <td>11.1</td>\n",
       "      <td>6</td>\n",
       "    </tr>\n",
       "    <tr>\n",
       "      <th>5601</th>\n",
       "      <td>6.1</td>\n",
       "      <td>0.25</td>\n",
       "      <td>0.48</td>\n",
       "      <td>15.8</td>\n",
       "      <td>0.052</td>\n",
       "      <td>25.0</td>\n",
       "      <td>94.0</td>\n",
       "      <td>0.99782</td>\n",
       "      <td>3.07</td>\n",
       "      <td>0.45</td>\n",
       "      <td>9.2</td>\n",
       "      <td>6</td>\n",
       "    </tr>\n",
       "    <tr>\n",
       "      <th>1576</th>\n",
       "      <td>8.0</td>\n",
       "      <td>0.30</td>\n",
       "      <td>0.63</td>\n",
       "      <td>1.6</td>\n",
       "      <td>0.081</td>\n",
       "      <td>16.0</td>\n",
       "      <td>29.0</td>\n",
       "      <td>0.99588</td>\n",
       "      <td>3.30</td>\n",
       "      <td>0.78</td>\n",
       "      <td>10.8</td>\n",
       "      <td>6</td>\n",
       "    </tr>\n",
       "    <tr>\n",
       "      <th>2177</th>\n",
       "      <td>6.5</td>\n",
       "      <td>0.28</td>\n",
       "      <td>0.29</td>\n",
       "      <td>2.7</td>\n",
       "      <td>0.038</td>\n",
       "      <td>26.0</td>\n",
       "      <td>107.0</td>\n",
       "      <td>0.99120</td>\n",
       "      <td>3.32</td>\n",
       "      <td>0.41</td>\n",
       "      <td>11.6</td>\n",
       "      <td>7</td>\n",
       "    </tr>\n",
       "    <tr>\n",
       "      <th>842</th>\n",
       "      <td>10.6</td>\n",
       "      <td>0.50</td>\n",
       "      <td>0.45</td>\n",
       "      <td>2.6</td>\n",
       "      <td>0.119</td>\n",
       "      <td>34.0</td>\n",
       "      <td>68.0</td>\n",
       "      <td>0.99708</td>\n",
       "      <td>3.23</td>\n",
       "      <td>0.72</td>\n",
       "      <td>10.9</td>\n",
       "      <td>6</td>\n",
       "    </tr>\n",
       "  </tbody>\n",
       "</table>\n",
       "</div>"
      ],
      "text/plain": [
       "      fixed_acidity  volatile_acidity  citric_acid  residual_sugar  chlorides  \\\n",
       "1571            6.4              0.38         0.14             2.2      0.038   \n",
       "5601            6.1              0.25         0.48            15.8      0.052   \n",
       "1576            8.0              0.30         0.63             1.6      0.081   \n",
       "2177            6.5              0.28         0.29             2.7      0.038   \n",
       "842            10.6              0.50         0.45             2.6      0.119   \n",
       "\n",
       "      free_sulfur_dioxide  total_sulfur_dioxide  density    pH  sulphates  \\\n",
       "1571                 15.0                  25.0  0.99514  3.44       0.65   \n",
       "5601                 25.0                  94.0  0.99782  3.07       0.45   \n",
       "1576                 16.0                  29.0  0.99588  3.30       0.78   \n",
       "2177                 26.0                 107.0  0.99120  3.32       0.41   \n",
       "842                  34.0                  68.0  0.99708  3.23       0.72   \n",
       "\n",
       "      alcohol  quality  \n",
       "1571     11.1        6  \n",
       "5601      9.2        6  \n",
       "1576     10.8        6  \n",
       "2177     11.6        7  \n",
       "842      10.9        6  "
      ]
     },
     "execution_count": 29,
     "metadata": {},
     "output_type": "execute_result"
    }
   ],
   "source": [
    "# 5 amostras aleatórias do conjunto de dados de teste\n",
    "x_teste[1750:1755]"
   ]
  },
  {
   "cell_type": "code",
   "execution_count": 30,
   "metadata": {},
   "outputs": [
    {
     "data": {
      "text/plain": [
       "6156    1\n",
       "4090    1\n",
       "2318    1\n",
       "6288    1\n",
       "4658    1\n",
       "Name: style, dtype: int64"
      ]
     },
     "execution_count": 30,
     "metadata": {},
     "output_type": "execute_result"
    }
   ],
   "source": [
    "# Verificando a classificação para estas amostras\n",
    "y_teste[1750:1755]"
   ]
  },
  {
   "cell_type": "code",
   "execution_count": 31,
   "metadata": {},
   "outputs": [
    {
     "data": {
      "text/plain": [
       "array([1, 1, 1, 1, 1], dtype=int64)"
      ]
     },
     "execution_count": 31,
     "metadata": {},
     "output_type": "execute_result"
    }
   ],
   "source": [
    "# Verificando se nosso modelo acertou nas previsões\n",
    "modelo.predict(X_teste[1750:1755])"
   ]
  },
  {
   "cell_type": "markdown",
   "metadata": {},
   "source": [
    "<h1>Comentário</h1>\n",
    "<br>\n",
    "Este é um modelo bem simples de classificação. O resultado do modelo é muito alto, de 99% o que nos indica que pode estar havendo overfitting, ou seja, o nosso modelo poderia estar \"decorando\" as respostas. Porém, como estamos usando o Extra Trees Classifier, que traz uma aleatoriedade e generalização no processo, a sua acurácia pode ser alta, realmente.\n",
    "<br>\n",
    "<br>\n",
    "<b>Além disso, foi escolhido apenas a acurácia como métrica de avaliação, pelo fato de o conjunto de dados utilizado ser bem balanceado, ou seja, há um equilíbrio de ocorrências entre vinho tinto e branco.</b>\n",
    "<br>\n",
    "<br>\n",
    "Caso o conjunto de dados fosse desequilibrado, teria que ser usado outras métricas, como por exemplo, Precision, Recall, Confusion Matrix e Curva ROC."
   ]
  }
 ],
 "metadata": {
  "kernelspec": {
   "display_name": "Python 3",
   "language": "python",
   "name": "python3"
  },
  "language_info": {
   "codemirror_mode": {
    "name": "ipython",
    "version": 3
   },
   "file_extension": ".py",
   "mimetype": "text/x-python",
   "name": "python",
   "nbconvert_exporter": "python",
   "pygments_lexer": "ipython3",
   "version": "3.8.3"
  }
 },
 "nbformat": 4,
 "nbformat_minor": 4
}
