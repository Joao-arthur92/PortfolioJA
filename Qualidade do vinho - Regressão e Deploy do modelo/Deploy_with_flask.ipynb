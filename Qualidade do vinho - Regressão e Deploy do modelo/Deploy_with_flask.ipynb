{
 "cells": [
  {
   "cell_type": "markdown",
   "metadata": {},
   "source": [
    "<h1>Deploy de um modelo de Machine Learning</h1>\n",
    "<br>\n",
    "Este exemplo de modelo em produção foi feito com base no vídeo de Meigarom, do canal Seja Um Data Scientist. <a href='https://www.youtube.com/watch?v=d6caxBhnf2I&ab_channel=SejaUmDataScientist'>Youtube</a>\n",
    "<br>\n",
    "<br>\n",
    "O conjunto de dados possui informações de vinhos, como densidade, pH e com isso descobre-se a qualidade do mesmo.\n",
    "<br>\n",
    "<br>\n",
    "É um modelo simples de Machine Learning com base em regressão para deploy em uma API feito por mim. O modelo de Machine Learning usa um método de regularização L1 e L2, o algoritmo chama-se ElasticNet. Será feito também uma reescala de dois atributos do DataFrame, para uma melhora da performance. \n",
    "<br>\n",
    "<br>\n",
    "Mas o foco principal deste projeto é o deploy do modelo, que só é possível com a criação do API feito num arquivo python com a biblioteca/framework Flask. Com ele, criamos um host, porém neste projeto foi feito no servidor local. Dentro da API, com nome de handler.py, são feitos requisições para a predição do modelo treinado para sabermos a qualidade do vinho. A requisição são <b>todos os atributos necessários</b> para sabermos a qualidade do vinho. Dentro do modelo em produção, são feitos tarefas para que todo o processo de preparação dos dados seja feito de forma automática, sem que o modelo precise parar sua produção. Foi criado um arquivo chamado wine_quality.py, que é usado como uma biblioteca dentro da API. Esta biblioteca possui um método que faz uma preparação dos dados e os retornam transformados. Estas são as tarefas no qual citei anteriormente."
   ]
  },
  {
   "cell_type": "markdown",
   "metadata": {},
   "source": [
    "<h1>Importação das bibliotecas</h1>"
   ]
  },
  {
   "cell_type": "code",
   "execution_count": 1,
   "metadata": {},
   "outputs": [],
   "source": [
    "import requests\n",
    "import pandas as pd\n",
    "import numpy as np\n",
    "import pickle\n",
    "import seaborn as sns\n",
    "\n",
    "from sklearn.model_selection import train_test_split\n",
    "from sklearn.linear_model import ElasticNet\n",
    "from sklearn.metrics import mean_squared_error, mean_absolute_error, r2_score\n",
    "from sklearn.preprocessing import MinMaxScaler"
   ]
  },
  {
   "cell_type": "markdown",
   "metadata": {},
   "source": [
    "<h1>Carregamento dos dados</h1>"
   ]
  },
  {
   "cell_type": "code",
   "execution_count": 2,
   "metadata": {},
   "outputs": [],
   "source": [
    "csv_url = 'http://archive.ics.uci.edu/ml/machine-learning-databases/wine-quality/winequality-red.csv'\n",
    "df_raw = pd.read_csv( csv_url, sep=';' )"
   ]
  },
  {
   "cell_type": "markdown",
   "metadata": {},
   "source": [
    "<h1>Preparação dos dados</h1>"
   ]
  },
  {
   "cell_type": "code",
   "execution_count": 14,
   "metadata": {},
   "outputs": [],
   "source": [
    "df1 = df_raw.copy()"
   ]
  },
  {
   "cell_type": "markdown",
   "metadata": {},
   "source": [
    "<h1>Reescalando os dados</h1>"
   ]
  },
  {
   "cell_type": "code",
   "execution_count": 4,
   "metadata": {},
   "outputs": [],
   "source": [
    "# min max scaler\n",
    "mms = MinMaxScaler()"
   ]
  },
  {
   "cell_type": "code",
   "execution_count": 8,
   "metadata": {},
   "outputs": [],
   "source": [
    "# free sulfur dioxide\n",
    "df1['free sulfur dioxide'] = mms.fit_transform(df1[['free sulfur dioxide']].values)\n",
    "pickle.dump(mms, open('C:\\\\Users\\\\ja_me\\\\Projetos_Portfolio\\\\free_sulfur_scaler.pkl', 'wb'))\n",
    "\n",
    "# total sulfur dioxide\n",
    "df1['total sulfur dioxide'] = np.log1p(df1['total sulfur dioxide'])\n",
    "df1['total sulfur dioxide'] = mms.fit_transform(df1[['total sulfur dioxide']].values)\n",
    "pickle.dump(mms, open('C:\\\\Users\\\\ja_me\\\\Projetos_Portfolio\\\\total_sulfur_scaler.pkl', 'wb'))"
   ]
  },
  {
   "cell_type": "markdown",
   "metadata": {},
   "source": [
    "<h1>Comentário</h1>\n",
    "<br>\n",
    "Foi feito um arquivo Pickle para cada escala de cada atributo do dataset, para que quando houver novos dados, estes dados sejam reescalados da mesma forma que o dataset original. Este arquivo Pickle possui as informações de forma binária, de forma que ele não sofre alterações no processo.\n",
    "<br>\n",
    "<br>\n",
    "No atributo 'total sulfur dioxide' foi feito uma transformação em log antes de reescalar seus dados, para que ele tenha uma distribuição quase normal. Isso é feito, pois os algoritmos funcionam melhor com dados com distribuição normal ou perto da normal. O gráfico de distribuição abaixo mostra a transformação feita neste atributo."
   ]
  },
  {
   "cell_type": "code",
   "execution_count": 15,
   "metadata": {},
   "outputs": [
    {
     "data": {
      "text/plain": [
       "array([0.])"
      ]
     },
     "execution_count": 15,
     "metadata": {},
     "output_type": "execute_result"
    }
   ],
   "source": [
    "mms.data_min_"
   ]
  },
  {
   "cell_type": "code",
   "execution_count": 16,
   "metadata": {},
   "outputs": [
    {
     "data": {
      "text/plain": [
       "<matplotlib.axes._subplots.AxesSubplot at 0x21ad5dc3eb0>"
      ]
     },
     "execution_count": 16,
     "metadata": {},
     "output_type": "execute_result"
    },
    {
     "data": {
      "image/png": "[encoded data removed]",
      "text/plain": [
       "<Figure size 432x288 with 1 Axes>"
      ]
     },
     "metadata": {
      "needs_background": "light"
     },
     "output_type": "display_data"
    }
   ],
   "source": [
    "sns.distplot(np.log1p(df1['total sulfur dioxide']), kde=False)"
   ]
  },
  {
   "cell_type": "code",
   "execution_count": 11,
   "metadata": {},
   "outputs": [],
   "source": [
    "train, test = train_test_split( df1 ) #75% e 25% test\n",
    "\n",
    "# train and test dataset\n",
    "x_train = train.drop( 'quality', axis=1 )\n",
    "y_train = train['quality']\n",
    "\n",
    "x_test = test.drop( 'quality', axis=1 )\n",
    "y_test = test['quality']"
   ]
  },
  {
   "cell_type": "markdown",
   "metadata": {},
   "source": [
    "<h1>Modelo de Machine Learning</h1>"
   ]
  },
  {
   "cell_type": "code",
   "execution_count": 12,
   "metadata": {},
   "outputs": [
    {
     "name": "stdout",
     "output_type": "stream",
     "text": [
      "RMSE: 0.7419040582579541\n",
      "MAE: 0.6268288090753519\n",
      "R2: 0.12415131559567272\n"
     ]
    }
   ],
   "source": [
    "# model definition\n",
    "model = ElasticNet( alpha=0.5, l1_ratio=0.5, random_state=42 )\n",
    "\n",
    "# training\n",
    "model.fit( x_train, y_train )\n",
    "\n",
    "# prediction\n",
    "pred = model.predict( x_test )\n",
    "\n",
    "rmse = np.sqrt( mean_squared_error( y_test, pred ))\n",
    "mae = mean_absolute_error( y_test, pred )\n",
    "r2  = r2_score( y_test, pred )\n",
    "\n",
    "\n",
    "print( 'RMSE: {}'.format( rmse ) )\n",
    "print( 'MAE: {}'.format( mae ) )\n",
    "print( 'R2: {}'.format( r2 ))\n",
    "\n",
    "\n",
    "# save trained model\n",
    "pickle.dump( model, open( 'C:\\\\Users\\\\ja_me\\\\Projetos_Portfolio\\\\model_wine_quality.pkl', 'wb' ) )"
   ]
  },
  {
   "cell_type": "markdown",
   "metadata": {},
   "source": [
    "<h1>Comentário</h1>\n",
    "<br>\n",
    "O modelo não possui um bom valor, com um r2 score de 0,12. Como o foco do projeto não é conseguir um modelo muito bom, passarei adiante."
   ]
  },
  {
   "cell_type": "markdown",
   "metadata": {},
   "source": [
    "<h1>Predição</h1>"
   ]
  },
  {
   "cell_type": "code",
   "execution_count": 28,
   "metadata": {},
   "outputs": [],
   "source": [
    "df = df_raw.drop('quality', axis=1).sample()"
   ]
  },
  {
   "cell_type": "code",
   "execution_count": 29,
   "metadata": {},
   "outputs": [
    {
     "data": {
      "text/html": [
       "<div>\n",
       "<style scoped>\n",
       "    .dataframe tbody tr th:only-of-type {\n",
       "        vertical-align: middle;\n",
       "    }\n",
       "\n",
       "    .dataframe tbody tr th {\n",
       "        vertical-align: top;\n",
       "    }\n",
       "\n",
       "    .dataframe thead th {\n",
       "        text-align: right;\n",
       "    }\n",
       "</style>\n",
       "<table border=\"1\" class=\"dataframe\">\n",
       "  <thead>\n",
       "    <tr style=\"text-align: right;\">\n",
       "      <th></th>\n",
       "      <th>fixed acidity</th>\n",
       "      <th>volatile acidity</th>\n",
       "      <th>citric acid</th>\n",
       "      <th>residual sugar</th>\n",
       "      <th>chlorides</th>\n",
       "      <th>free sulfur dioxide</th>\n",
       "      <th>total sulfur dioxide</th>\n",
       "      <th>density</th>\n",
       "      <th>pH</th>\n",
       "      <th>sulphates</th>\n",
       "      <th>alcohol</th>\n",
       "    </tr>\n",
       "  </thead>\n",
       "  <tbody>\n",
       "    <tr>\n",
       "      <th>116</th>\n",
       "      <td>8.3</td>\n",
       "      <td>0.54</td>\n",
       "      <td>0.28</td>\n",
       "      <td>1.9</td>\n",
       "      <td>0.077</td>\n",
       "      <td>11.0</td>\n",
       "      <td>40.0</td>\n",
       "      <td>0.9978</td>\n",
       "      <td>3.39</td>\n",
       "      <td>0.61</td>\n",
       "      <td>10.0</td>\n",
       "    </tr>\n",
       "  </tbody>\n",
       "</table>\n",
       "</div>"
      ],
      "text/plain": [
       "     fixed acidity  volatile acidity  citric acid  residual sugar  chlorides  \\\n",
       "116            8.3              0.54         0.28             1.9      0.077   \n",
       "\n",
       "     free sulfur dioxide  total sulfur dioxide  density    pH  sulphates  \\\n",
       "116                 11.0                  40.0   0.9978  3.39       0.61   \n",
       "\n",
       "     alcohol  \n",
       "116     10.0  "
      ]
     },
     "execution_count": 29,
     "metadata": {},
     "output_type": "execute_result"
    }
   ],
   "source": [
    "df"
   ]
  },
  {
   "cell_type": "code",
   "execution_count": 30,
   "metadata": {},
   "outputs": [],
   "source": [
    "df_json = df.to_json(orient='records')"
   ]
  },
  {
   "cell_type": "code",
   "execution_count": 31,
   "metadata": {},
   "outputs": [
    {
     "data": {
      "text/plain": [
       "'[{\"fixed acidity\":8.3,\"volatile acidity\":0.54,\"citric acid\":0.28,\"residual sugar\":1.9,\"chlorides\":0.077,\"free sulfur dioxide\":11.0,\"total sulfur dioxide\":40.0,\"density\":0.9978,\"pH\":3.39,\"sulphates\":0.61,\"alcohol\":10.0}]'"
      ]
     },
     "execution_count": 31,
     "metadata": {},
     "output_type": "execute_result"
    }
   ],
   "source": [
    "df_json"
   ]
  },
  {
   "cell_type": "code",
   "execution_count": 32,
   "metadata": {},
   "outputs": [],
   "source": [
    "url = 'http://192.168.0.112:5000/predict'\n",
    "data = df_json\n",
    "header = {'Content-type': 'application/json'}\n",
    "# Request\n",
    "r = requests.post(url=url, data=data, headers=header)"
   ]
  },
  {
   "cell_type": "code",
   "execution_count": 33,
   "metadata": {},
   "outputs": [
    {
     "data": {
      "text/html": [
       "<div>\n",
       "<style scoped>\n",
       "    .dataframe tbody tr th:only-of-type {\n",
       "        vertical-align: middle;\n",
       "    }\n",
       "\n",
       "    .dataframe tbody tr th {\n",
       "        vertical-align: top;\n",
       "    }\n",
       "\n",
       "    .dataframe thead th {\n",
       "        text-align: right;\n",
       "    }\n",
       "</style>\n",
       "<table border=\"1\" class=\"dataframe\">\n",
       "  <thead>\n",
       "    <tr style=\"text-align: right;\">\n",
       "      <th></th>\n",
       "      <th>fixed acidity</th>\n",
       "      <th>volatile acidity</th>\n",
       "      <th>citric acid</th>\n",
       "      <th>residual sugar</th>\n",
       "      <th>chlorides</th>\n",
       "      <th>free sulfur dioxide</th>\n",
       "      <th>total sulfur dioxide</th>\n",
       "      <th>density</th>\n",
       "      <th>pH</th>\n",
       "      <th>sulphates</th>\n",
       "      <th>alcohol</th>\n",
       "      <th>prediction</th>\n",
       "    </tr>\n",
       "  </thead>\n",
       "  <tbody>\n",
       "    <tr>\n",
       "      <th>0</th>\n",
       "      <td>8.3</td>\n",
       "      <td>0.54</td>\n",
       "      <td>0.28</td>\n",
       "      <td>1.9</td>\n",
       "      <td>0.077</td>\n",
       "      <td>0.140845</td>\n",
       "      <td>10.218686</td>\n",
       "      <td>0.9978</td>\n",
       "      <td>3.39</td>\n",
       "      <td>0.61</td>\n",
       "      <td>10.0</td>\n",
       "      <td>5.584056</td>\n",
       "    </tr>\n",
       "  </tbody>\n",
       "</table>\n",
       "</div>"
      ],
      "text/plain": [
       "   fixed acidity  volatile acidity  citric acid  residual sugar  chlorides  \\\n",
       "0            8.3              0.54         0.28             1.9      0.077   \n",
       "\n",
       "   free sulfur dioxide  total sulfur dioxide  density    pH  sulphates  \\\n",
       "0             0.140845             10.218686   0.9978  3.39       0.61   \n",
       "\n",
       "   alcohol  prediction  \n",
       "0     10.0    5.584056  "
      ]
     },
     "execution_count": 33,
     "metadata": {},
     "output_type": "execute_result"
    }
   ],
   "source": [
    "pd.DataFrame(r.json(), columns=r.json()[0].keys())"
   ]
  },
  {
   "cell_type": "markdown",
   "metadata": {},
   "source": [
    "<h1>Comentário</h1>\n",
    "<br>\n",
    "Nesta parte é feito a predição do modelo em produção, com todos os atributos passados para o modelo em forma de requisição. Nesta parte, é necessário transformar os dados em JSON, que é a forma que a API consegue \"lê-los\"."
   ]
  },
  {
   "cell_type": "markdown",
   "metadata": {},
   "source": [
    "## Class In Production"
   ]
  },
  {
   "cell_type": "code",
   "execution_count": null,
   "metadata": {},
   "outputs": [],
   "source": [
    "import pickle\n",
    "class WineQuality(object):\n",
    "    def __init__(self):\n",
    "        self.free_sulfur_scaler = pickle.load(open('C:\\\\Users\\\\ja_me\\\\Projetos_Portfolio\\\\free_sulfur_scaler.pkl', 'rb'))\n",
    "        self.total_sulfur_scaler = pickle.load(open('C:\\\\Users\\\\ja_me\\\\Projetos_Portfolio\\\\total_sulfur_scaler.pkl', 'rb'))\n",
    "        \n",
    "    \n",
    "    def data_preparation(self, df):\n",
    "        # reescaling free sulfur\n",
    "        df['free sulfur dioxide'] = self.free_sulfur_scaler.transform(df['free sulfur dioxide'])\n",
    "        \n",
    "        # reescaling total sulfur\n",
    "        df['total sulfur dioxide'] = self.total_sulfur_scaler.transform(df['total sulfur dioxide'])\n",
    "        \n",
    "        return df"
   ]
  },
  {
   "cell_type": "markdown",
   "metadata": {},
   "source": [
    "<h1>Comentário</h1>\n",
    "<br>\n",
    "Este é a classe criada, que virou o arquivo(biblioteca) para preparação dos dados dentro da API, de forma automática."
   ]
  }
 ],
 "metadata": {
  "kernelspec": {
   "display_name": "Python 3",
   "language": "python",
   "name": "python3"
  },
  "language_info": {
   "codemirror_mode": {
    "name": "ipython",
    "version": 3
   },
   "file_extension": ".py",
   "mimetype": "text/x-python",
   "name": "python",
   "nbconvert_exporter": "python",
   "pygments_lexer": "ipython3",
   "version": "3.8.3"
  }
 },
 "nbformat": 4,
 "nbformat_minor": 4
}
